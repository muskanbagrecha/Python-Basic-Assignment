{
 "cells": [
  {
   "cell_type": "markdown",
   "metadata": {},
   "source": [
    "# Muskan Bagrecha\n",
    "## Python Basic - Assignment 1"
   ]
  },
  {
   "cell_type": "raw",
   "metadata": {},
   "source": [
    "1. Which of the following are operators, and which are values?\n",
    "\n",
    "*\n",
    "'hello'\n",
    "-88.8\n",
    "-\n",
    "/\n",
    "+\n",
    "5\n",
    "\n",
    "\n",
    "Ans. Operators: *, -,/,+\n",
    "     Values: 'hello', -88.8, 5"
   ]
  },
  {
   "cell_type": "raw",
   "metadata": {},
   "source": [
    "2. Which of the following is a variable, and which is a string?\n",
    "\n",
    "spam\n",
    "'spam'\n",
    "\n",
    "Ans. spam is a variable\n",
    "     'spam' is a string"
   ]
  },
  {
   "cell_type": "raw",
   "metadata": {},
   "source": [
    "3. Name three data types.\n",
    "\n",
    "Ans. Integers (int), Floating-point numbers (float), complex numbers (complex)"
   ]
  },
  {
   "cell_type": "raw",
   "metadata": {},
   "source": [
    "4. What is an expression made up of? What do all expressions do?\n",
    "\n",
    "Ans. An expression is made up of operands and operators. The operands can be variables or constants. \n",
    "An expression always evaluates to a single value. \n",
    "\n",
    "Ex: a = 2+3"
   ]
  },
  {
   "cell_type": "raw",
   "metadata": {},
   "source": [
    "5. This chapter introduced assignment statements, like spam = 10. \n",
    "What is the difference between an expression and a statement?\n",
    "\n",
    "Ans. An expression includes a combination of operators and operands which always evaluates to a single value. A statement, on the other hand, is an instruction or a unit of execution which does something. Ex: print statement prints something, assignment statement assigns a value to a variable, etc. "
   ]
  },
  {
   "cell_type": "raw",
   "metadata": {},
   "source": [
    "6. What does the variable bacon contain after the following code runs?\n",
    "\n",
    "bacon = 20\n",
    "bacon + 1\n",
    "\n",
    "Ans. 20"
   ]
  },
  {
   "cell_type": "raw",
   "metadata": {},
   "source": [
    "7. What should the following two expressions evaluate to?\n",
    "\n",
    "'spam' + 'spamspam'\n",
    "'spam' * 3\n",
    "\n",
    "Ans. spamspamspam\n",
    "     spamspamspam"
   ]
  },
  {
   "cell_type": "raw",
   "metadata": {},
   "source": [
    "8. Why is eggs a valid variable name while 100 is invalid?\n",
    "\n",
    "Ans. A variable name cannot start with a number/digit. Therefore 100 is an invalid variable name."
   ]
  },
  {
   "cell_type": "raw",
   "metadata": {},
   "source": [
    "9. What three functions can be used to get the integer, floating-point number, or string version of a value?\n",
    "\n",
    "Ans. integer - int()\n",
    "     floating-point number- float()\n",
    "     string - str()\n",
    "     "
   ]
  },
  {
   "cell_type": "raw",
   "metadata": {},
   "source": [
    "10. Why does this expression cause an error? How can you fix it?\n",
    "\n",
    "'I have eaten ' + 99 + ' burritos.'\n",
    "\n",
    "Ans. This statement causes an error because we are concatenating string to an integer. \n",
    "\n",
    "Error can be avoided by explicit type casting:\n",
    "'I have eaten ' + str(99) + ' burritos.'"
   ]
  },
  {
   "cell_type": "code",
   "execution_count": null,
   "metadata": {},
   "outputs": [],
   "source": []
  }
 ],
 "metadata": {
  "kernelspec": {
   "display_name": "Python 3",
   "language": "python",
   "name": "python3"
  },
  "language_info": {
   "codemirror_mode": {
    "name": "ipython",
    "version": 3
   },
   "file_extension": ".py",
   "mimetype": "text/x-python",
   "name": "python",
   "nbconvert_exporter": "python",
   "pygments_lexer": "ipython3",
   "version": "3.8.5"
  }
 },
 "nbformat": 4,
 "nbformat_minor": 4
}
