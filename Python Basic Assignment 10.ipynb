{
 "cells": [
  {
   "cell_type": "markdown",
   "metadata": {},
   "source": [
    "# 1. How do you distinguish between shutil.copy() and shutil.copytree()?"
   ]
  },
  {
   "cell_type": "markdown",
   "metadata": {},
   "source": [
    "shutil.copy() copies a single file.\n",
    "shutil.copytree() copies the entire folder with every folder and file within it."
   ]
  },
  {
   "cell_type": "markdown",
   "metadata": {},
   "source": [
    "# 2. What function is used to rename files??"
   ]
  },
  {
   "cell_type": "markdown",
   "metadata": {},
   "source": [
    "os.rename()"
   ]
  },
  {
   "cell_type": "markdown",
   "metadata": {},
   "source": [
    "# 3. What is the difference between the delete functions in the send2trash and shutil modules?"
   ]
  },
  {
   "cell_type": "markdown",
   "metadata": {},
   "source": [
    "The send2trash functions will move a file or folder to the recycle bin, while shutil functions will permanently delete the files and folders."
   ]
  },
  {
   "cell_type": "markdown",
   "metadata": {},
   "source": [
    "# 4. ZipFile objects have a close() method just like File objects’ close() method. What ZipFile method is equivalent to File objects’ open() method?"
   ]
  },
  {
   "cell_type": "markdown",
   "metadata": {},
   "source": [
    "zipfile.ZipFile('filename.zip', 'r')"
   ]
  },
  {
   "cell_type": "markdown",
   "metadata": {},
   "source": [
    "# 5. Create a programme that searches a folder tree for files with a certain file extension (such as .pdf or .jpg). Copy these files from whatever location they are in to a new folder."
   ]
  },
  {
   "cell_type": "code",
   "execution_count": 7,
   "metadata": {},
   "outputs": [],
   "source": [
    "import os\n",
    "import shutil\n",
    "\n",
    "def copy_files(source, dest):\n",
    "    source_folder = os.path.abspath(source)\n",
    "    dest_folder = os.path.abspath(dest)\n",
    "    for root, directories, files in os.walk(source):\n",
    "        for file in files:\n",
    "            extension = os.path.splitext(file)[1]\n",
    "            if extension in ['.pdf', '.jpg']:\n",
    "                file_path = root + os.path.sep + file\n",
    "                try:\n",
    "                    shutil.copy(file_path, dest)\n",
    "                    print(f\"Copied {file_path} to {dest}\")\n",
    "                except Exception as e:\n",
    "                    print(e)\n",
    "\n",
    "source = 'C:\\\\Users\\\\muska\\\\OneDrive\\\\Desktop'\n",
    "dest = 'Copied_Files'"
   ]
  },
  {
   "cell_type": "code",
   "execution_count": 8,
   "metadata": {},
   "outputs": [
    {
     "name": "stdout",
     "output_type": "stream",
     "text": [
      "Copied C:\\Users\\muska\\OneDrive\\Desktop\\10.1.1.106.8352.pdf to Copied_Files\n",
      "Copied C:\\Users\\muska\\OneDrive\\Desktop\\100+Days+of+Python+Check+Off+Posters (1).pdf to Copied_Files\n",
      "Copied C:\\Users\\muska\\OneDrive\\Desktop\\18ETCS002077_NAVYA_K_ASSGN1.pdf to Copied_Files\n",
      "Copied C:\\Users\\muska\\OneDrive\\Desktop\\4.pdf to Copied_Files\n",
      "Copied C:\\Users\\muska\\OneDrive\\Desktop\\7.pdf to Copied_Files\n",
      "Copied C:\\Users\\muska\\OneDrive\\Desktop\\Admit Card.pdf to Copied_Files\n",
      "Copied C:\\Users\\muska\\OneDrive\\Desktop\\Appointment Reciept Muskan Passport.pdf to Copied_Files\n",
      "Copied C:\\Users\\muska\\OneDrive\\Desktop\\Co law class working notes 3.pdf to Copied_Files\n",
      "Copied C:\\Users\\muska\\OneDrive\\Desktop\\Fee Receipt 2nd Year.pdf to Copied_Files\n",
      "Copied C:\\Users\\muska\\OneDrive\\Desktop\\Form 1.pdf to Copied_Files\n",
      "Copied C:\\Users\\muska\\OneDrive\\Desktop\\Hands-on-Machine-Learning.pdf to Copied_Files\n",
      "Copied C:\\Users\\muska\\OneDrive\\Desktop\\How Is Marketing Automation Helping Real Estate Developers Drive Revenue.pdf to Copied_Files\n",
      "Copied C:\\Users\\muska\\OneDrive\\Desktop\\Income from Salaries.pdf to Copied_Files\n",
      "Copied C:\\Users\\muska\\OneDrive\\Desktop\\Muskan Bagrecha 18ETCS002074 DS LAB EXAM(2).pdf to Copied_Files\n",
      "Copied C:\\Users\\muska\\OneDrive\\Desktop\\Muskan Bagrecha 18ETCS002074 WEB Lab.pdf to Copied_Files\n",
      "Copied C:\\Users\\muska\\OneDrive\\Desktop\\Muskan Bagrecha DS assignment 1.pdf to Copied_Files\n",
      "Copied C:\\Users\\muska\\OneDrive\\Desktop\\Muskan Bagrecha Image.jpg to Copied_Files\n",
      "Copied C:\\Users\\muska\\OneDrive\\Desktop\\pan.pdf to Copied_Files\n",
      "Copied C:\\Users\\muska\\OneDrive\\Desktop\\RECEIPT FINAL.pdf to Copied_Files\n",
      "Copied C:\\Users\\muska\\OneDrive\\Desktop\\Text book ML DL 2.pdf to Copied_Files\n",
      "Copied C:\\Users\\muska\\OneDrive\\Desktop\\Text book ML DL.pdf to Copied_Files\n",
      "Copied C:\\Users\\muska\\OneDrive\\Desktop\\18ETCS002074 MUSKAN BAGRECHA AI\\18ETCS002074 MUSKAN BAGRECHA AI ASSIGNMENT 1.pdf to Copied_Files\n",
      "Copied C:\\Users\\muska\\OneDrive\\Desktop\\Flutter2\\learning_flutter\\assets\\cartoon-5544856_1920.jpg to Copied_Files\n",
      "Copied C:\\Users\\muska\\OneDrive\\Desktop\\Flutter_prog\\my_project\\assets\\nature-5291453_1920.jpg to Copied_Files\n",
      "Copied C:\\Users\\muska\\OneDrive\\Desktop\\Flutter_prog\\my_project\\build\\app\\intermediates\\flutter\\debug\\flutter_assets\\assets\\nature-5291453_1920.jpg to Copied_Files\n",
      "Copied C:\\Users\\muska\\OneDrive\\Desktop\\Flutter_prog\\my_project\\build\\app\\intermediates\\merged_assets\\debug\\out\\flutter_assets\\assets\\nature-5291453_1920.jpg to Copied_Files\n",
      "Copied C:\\Users\\muska\\OneDrive\\Desktop\\Muskan Passport_files\\fileNoImg.jpg to Copied_Files\n",
      "Copied C:\\Users\\muska\\OneDrive\\Desktop\\Muskan Passport_files\\signature.jpg to Copied_Files\n",
      "Copied C:\\Users\\muska\\OneDrive\\Desktop\\mysql-connector-java-5.1.34\\docs\\connector-j.pdf to Copied_Files\n",
      "Copied C:\\Users\\muska\\OneDrive\\Desktop\\MySQL-Ineuron\\19.2.MySQL\\MYSQL application.pdf to Copied_Files\n",
      "Copied C:\\Users\\muska\\OneDrive\\Desktop\\MySQL-Ineuron\\19.2.MySQL\\imgs\\mysql1.jpg to Copied_Files\n",
      "Copied C:\\Users\\muska\\OneDrive\\Desktop\\MySQL-Ineuron\\19.2.MySQL\\imgs\\mysql10.jpg to Copied_Files\n",
      "Copied C:\\Users\\muska\\OneDrive\\Desktop\\MySQL-Ineuron\\19.2.MySQL\\imgs\\mysql11.jpg to Copied_Files\n",
      "Copied C:\\Users\\muska\\OneDrive\\Desktop\\MySQL-Ineuron\\19.2.MySQL\\imgs\\mysql12.jpg to Copied_Files\n",
      "Copied C:\\Users\\muska\\OneDrive\\Desktop\\MySQL-Ineuron\\19.2.MySQL\\imgs\\mysql13.jpg to Copied_Files\n",
      "Copied C:\\Users\\muska\\OneDrive\\Desktop\\MySQL-Ineuron\\19.2.MySQL\\imgs\\mysql14.jpg to Copied_Files\n",
      "Copied C:\\Users\\muska\\OneDrive\\Desktop\\MySQL-Ineuron\\19.2.MySQL\\imgs\\mysql15.jpg to Copied_Files\n",
      "Copied C:\\Users\\muska\\OneDrive\\Desktop\\MySQL-Ineuron\\19.2.MySQL\\imgs\\mysql16.jpg to Copied_Files\n",
      "Copied C:\\Users\\muska\\OneDrive\\Desktop\\MySQL-Ineuron\\19.2.MySQL\\imgs\\mysql17.jpg to Copied_Files\n",
      "Copied C:\\Users\\muska\\OneDrive\\Desktop\\MySQL-Ineuron\\19.2.MySQL\\imgs\\mysql18.jpg to Copied_Files\n",
      "Copied C:\\Users\\muska\\OneDrive\\Desktop\\MySQL-Ineuron\\19.2.MySQL\\imgs\\mysql19.jpg to Copied_Files\n",
      "Copied C:\\Users\\muska\\OneDrive\\Desktop\\MySQL-Ineuron\\19.2.MySQL\\imgs\\mysql2.jpg to Copied_Files\n",
      "Copied C:\\Users\\muska\\OneDrive\\Desktop\\MySQL-Ineuron\\19.2.MySQL\\imgs\\mysql20.jpg to Copied_Files\n",
      "Copied C:\\Users\\muska\\OneDrive\\Desktop\\MySQL-Ineuron\\19.2.MySQL\\imgs\\mysql21.jpg to Copied_Files\n",
      "Copied C:\\Users\\muska\\OneDrive\\Desktop\\MySQL-Ineuron\\19.2.MySQL\\imgs\\mysql22.jpg to Copied_Files\n",
      "Copied C:\\Users\\muska\\OneDrive\\Desktop\\MySQL-Ineuron\\19.2.MySQL\\imgs\\mysql23.jpg to Copied_Files\n",
      "Copied C:\\Users\\muska\\OneDrive\\Desktop\\MySQL-Ineuron\\19.2.MySQL\\imgs\\mysql24.jpg to Copied_Files\n",
      "Copied C:\\Users\\muska\\OneDrive\\Desktop\\MySQL-Ineuron\\19.2.MySQL\\imgs\\mysql25.jpg to Copied_Files\n",
      "Copied C:\\Users\\muska\\OneDrive\\Desktop\\MySQL-Ineuron\\19.2.MySQL\\imgs\\mysql26.jpg to Copied_Files\n",
      "Copied C:\\Users\\muska\\OneDrive\\Desktop\\MySQL-Ineuron\\19.2.MySQL\\imgs\\mysql27.jpg to Copied_Files\n",
      "Copied C:\\Users\\muska\\OneDrive\\Desktop\\MySQL-Ineuron\\19.2.MySQL\\imgs\\mysql28.jpg to Copied_Files\n",
      "Copied C:\\Users\\muska\\OneDrive\\Desktop\\MySQL-Ineuron\\19.2.MySQL\\imgs\\mysql29.jpg to Copied_Files\n",
      "Copied C:\\Users\\muska\\OneDrive\\Desktop\\MySQL-Ineuron\\19.2.MySQL\\imgs\\mysql3.jpg to Copied_Files\n",
      "Copied C:\\Users\\muska\\OneDrive\\Desktop\\MySQL-Ineuron\\19.2.MySQL\\imgs\\mysql30.jpg to Copied_Files\n",
      "Copied C:\\Users\\muska\\OneDrive\\Desktop\\MySQL-Ineuron\\19.2.MySQL\\imgs\\mysql31.jpg to Copied_Files\n",
      "Copied C:\\Users\\muska\\OneDrive\\Desktop\\MySQL-Ineuron\\19.2.MySQL\\imgs\\mysql32.jpg to Copied_Files\n",
      "Copied C:\\Users\\muska\\OneDrive\\Desktop\\MySQL-Ineuron\\19.2.MySQL\\imgs\\mysql33.jpg to Copied_Files\n",
      "Copied C:\\Users\\muska\\OneDrive\\Desktop\\MySQL-Ineuron\\19.2.MySQL\\imgs\\mysql4.jpg to Copied_Files\n",
      "Copied C:\\Users\\muska\\OneDrive\\Desktop\\MySQL-Ineuron\\19.2.MySQL\\imgs\\mysql5.jpg to Copied_Files\n",
      "Copied C:\\Users\\muska\\OneDrive\\Desktop\\MySQL-Ineuron\\19.2.MySQL\\imgs\\mysql6.jpg to Copied_Files\n",
      "Copied C:\\Users\\muska\\OneDrive\\Desktop\\MySQL-Ineuron\\19.2.MySQL\\imgs\\mysql7.jpg to Copied_Files\n",
      "Copied C:\\Users\\muska\\OneDrive\\Desktop\\MySQL-Ineuron\\19.2.MySQL\\imgs\\mysql8.jpg to Copied_Files\n",
      "Copied C:\\Users\\muska\\OneDrive\\Desktop\\MySQL-Ineuron\\19.2.MySQL\\imgs\\mysql9.jpg to Copied_Files\n"
     ]
    }
   ],
   "source": [
    "copy_files(source, dest)"
   ]
  }
 ],
 "metadata": {
  "kernelspec": {
   "display_name": "Python 3",
   "language": "python",
   "name": "python3"
  },
  "language_info": {
   "codemirror_mode": {
    "name": "ipython",
    "version": 3
   },
   "file_extension": ".py",
   "mimetype": "text/x-python",
   "name": "python",
   "nbconvert_exporter": "python",
   "pygments_lexer": "ipython3",
   "version": "3.8.5"
  }
 },
 "nbformat": 4,
 "nbformat_minor": 4
}
