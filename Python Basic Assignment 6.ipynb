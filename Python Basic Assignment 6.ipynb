{
 "cells": [
  {
   "cell_type": "markdown",
   "metadata": {},
   "source": [
    "# PYTHON BASIC ASSIGNMENT 6"
   ]
  },
  {
   "cell_type": "markdown",
   "metadata": {},
   "source": [
    "# Q1 What are escape characters, and how do you use them?"
   ]
  },
  {
   "cell_type": "raw",
   "metadata": {},
   "source": [
    "A backslash is called an escape character in Python and has special usage. Escape characters can also be used to insert characters which would be otherwise illegal to insert. It has a backslash \\ followed by the character. \n",
    "\n",
    "Example: This statement is illegal: print(\"Hi, my name is \"muskan\"\")\n",
    "\n",
    "We can make it legal by using escape characters:\n",
    "\n",
    "print(\"Hi, my name is \\\"muskan\\\"\")"
   ]
  },
  {
   "cell_type": "code",
   "execution_count": 5,
   "metadata": {},
   "outputs": [
    {
     "name": "stdout",
     "output_type": "stream",
     "text": [
      "Hi, my name is \"muskan\"\n"
     ]
    }
   ],
   "source": [
    "print(\"Hi, my name is \\\"muskan\\\"\")"
   ]
  },
  {
   "cell_type": "markdown",
   "metadata": {},
   "source": [
    "# Q2. What do the escape characters n and t stand for?"
   ]
  },
  {
   "cell_type": "markdown",
   "metadata": {},
   "source": [
    "\\n stands for new line\n",
    "\n",
    "\\t stands for tab"
   ]
  },
  {
   "cell_type": "markdown",
   "metadata": {},
   "source": [
    "# Q3 What is the way to include backslash characters in a string?"
   ]
  },
  {
   "cell_type": "raw",
   "metadata": {},
   "source": [
    "We can include backslash using \\\\"
   ]
  },
  {
   "cell_type": "code",
   "execution_count": 12,
   "metadata": {},
   "outputs": [
    {
     "name": "stdout",
     "output_type": "stream",
     "text": [
      "This is a backslash character: \\\n"
     ]
    }
   ],
   "source": [
    "str = \"This is a backslash character: \\\\\"\n",
    "print(str)"
   ]
  },
  {
   "cell_type": "markdown",
   "metadata": {},
   "source": [
    "# Q4. The string &quot;Howl&#39;s Moving Castle&quot; is a correct value. Why isn&#39;t the single quote character in the word Howl&#39;s not escaped a problem?"
   ]
  },
  {
   "cell_type": "markdown",
   "metadata": {},
   "source": [
    "In Python, we do not have to escape single quotes within double quotes and vice versa. In short, it is not requires to escape the quotes which are different from the enclosing ones used by the entire string."
   ]
  },
  {
   "cell_type": "markdown",
   "metadata": {},
   "source": [
    "# Q5. How do you write a string of newlines if you don&#39;t want to use the n character?"
   ]
  },
  {
   "cell_type": "markdown",
   "metadata": {},
   "source": [
    "By using different print statements as each print statement by default prints on a new line."
   ]
  },
  {
   "cell_type": "markdown",
   "metadata": {},
   "source": [
    "# Q6. What are the values of the given expressions?\n",
    "&#39;Hello, world!&#39;[1] - 'e'\n",
    "\n",
    "&#39;Hello, world!&#39;[0:5] - 'Hello'\n",
    "\n",
    "&#39;Hello, world!&#39;[:5] - 'Hello'\n",
    "\n",
    "&#39;Hello, world!&#39;[3:] - 'lo, world!'"
   ]
  },
  {
   "cell_type": "markdown",
   "metadata": {},
   "source": [
    "# Q7. What are the values of the following expressions?\n",
    "\n",
    "&#39;Hello&#39;.upper() - 'HELLO'\n",
    "\n",
    "&#39;Hello&#39;.upper().isupper() - True\n",
    "\n",
    "&#39;Hello&#39;.upper().lower() - 'hello'"
   ]
  },
  {
   "cell_type": "markdown",
   "metadata": {},
   "source": [
    "# Q8. What are the values of the following expressions?\n",
    "\n",
    "## &#39;Remember, remember, the fifth of July.&#39;.split()  \n",
    "\n"
   ]
  },
  {
   "cell_type": "markdown",
   "metadata": {},
   "source": [
    "['Remember,', 'remember,', 'the', 'fifth', 'of', 'July.']"
   ]
  },
  {
   "cell_type": "markdown",
   "metadata": {},
   "source": [
    "## &#39;-&#39;.join(&#39;There can only one.&#39;.split()) "
   ]
  },
  {
   "cell_type": "markdown",
   "metadata": {},
   "source": [
    "'There-can-only-one.'"
   ]
  },
  {
   "cell_type": "markdown",
   "metadata": {},
   "source": [
    "# Q9. What are the methods for right-justifying, left-justifying, and centering a string?"
   ]
  },
  {
   "cell_type": "markdown",
   "metadata": {},
   "source": [
    "Right-justifying can be done using rjust()\n",
    "\n",
    "Left-justifying can be done using ljust()\n",
    "\n",
    "Centering can be done using center()"
   ]
  },
  {
   "cell_type": "markdown",
   "metadata": {},
   "source": [
    "# Q10. What is the best way to remove whitespace characters from the start or end?"
   ]
  },
  {
   "cell_type": "markdown",
   "metadata": {},
   "source": [
    "str.strip()"
   ]
  }
 ],
 "metadata": {
  "kernelspec": {
   "display_name": "Python 3",
   "language": "python",
   "name": "python3"
  },
  "language_info": {
   "codemirror_mode": {
    "name": "ipython",
    "version": 3
   },
   "file_extension": ".py",
   "mimetype": "text/x-python",
   "name": "python",
   "nbconvert_exporter": "python",
   "pygments_lexer": "ipython3",
   "version": "3.7.4"
  }
 },
 "nbformat": 4,
 "nbformat_minor": 2
}
