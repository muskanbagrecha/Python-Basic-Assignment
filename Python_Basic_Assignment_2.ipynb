{
 "cells": [
  {
   "cell_type": "markdown",
   "metadata": {},
   "source": [
    "# 1. What are the two values of the Boolean data type? How do you write them?\n",
    "\n",
    "Ans. True and False are the two possible values of boolean data type.\n",
    "\n",
    "Syntax: a=False\n",
    "        b=True"
   ]
  },
  {
   "cell_type": "markdown",
   "metadata": {},
   "source": [
    "# 2. What are the three different types of Boolean operators?\n",
    "\n",
    "Ans: and, or, not"
   ]
  },
  {
   "cell_type": "markdown",
   "metadata": {},
   "source": [
    "# 3. Make a list of each Boolean operator's truth tables (i.e. every possible combination of Boolean values for the operator and what it evaluate ).\n",
    "\n",
    "Ans. and operator\n",
    "\n",
    "      A        B        A and B\n",
    "      \n",
    "      0        0           0\n",
    "      \n",
    "      0        1           0\n",
    "      \n",
    "      1        0           0\n",
    "      \n",
    "      1        1           1\n",
    "      \n",
    "      \n",
    "      or operator:\n",
    "      \n",
    "      \n",
    "      A        B        A or B\n",
    "      \n",
    "      0        0           0\n",
    "      \n",
    "      0        1           1\n",
    "      \n",
    "      1        0           1\n",
    "      \n",
    "      1        1           1\n",
    "      \n",
    "      \n",
    "      not operator:\n",
    "      \n",
    "      A           not A    \n",
    "      \n",
    "      0             1     \n",
    "      \n",
    "      1             0     \n",
    "                       \n",
    "      "
   ]
  },
  {
   "cell_type": "markdown",
   "metadata": {},
   "source": [
    "# 4. What are the values of the following expressions?\n",
    "\n",
    "1. (5 > 4) and (3 == 5)\n",
    "\n",
    "Ans. False\n",
    "\n",
    "2. not (5 > 4)\n",
    "\n",
    "Ans. False\n",
    "\n",
    "3. (5 > 4) or (3 == 5)\n",
    "\n",
    "Ans. True\n",
    "\n",
    "4. not ((5 > 4) or (3 == 5))\n",
    "\n",
    "Ans. False\n",
    "\n",
    "5. (True and True) and (True == False)\n",
    "\n",
    "Ans. False\n",
    "\n",
    "6. (not False) or (not True)\n",
    "\n",
    "Ans. True"
   ]
  },
  {
   "cell_type": "markdown",
   "metadata": {},
   "source": [
    "# 5. What are the six comparison operators?\n",
    "\n",
    "Ans. >,<,>=,<=,==,!="
   ]
  },
  {
   "cell_type": "markdown",
   "metadata": {},
   "source": [
    "# 6. How do you tell the difference between the equal to and assignment operators?Describe a condition and when you would use one.\n",
    "\n",
    "Ans. The assignment operator is used to assign a value to a variable. \n",
    "For example: a=5. Here 5 is being assigned to a\n",
    "\n",
    "The logical == operator is used to compare two values and it evaluates to True if both the values are equal otherwise it evaluates to False. \n",
    "\n",
    "For example: 5==(2+3) will evaluate to True"
   ]
  },
  {
   "cell_type": "markdown",
   "metadata": {},
   "source": [
    "# 7. Identify the three blocks in this code:\n",
    "\n",
    "Ans. Block 1: \n",
    "\n",
    "      if spam == 10:\n",
    "      print('eggs')\n",
    "      \n",
    "      Block 2: \n",
    "      \n",
    "      if spam > 5:\n",
    "      print('bacon')\n",
    "      \n",
    "      Block 3:\n",
    "      \n",
    "      print('ham')"
   ]
  },
  {
   "cell_type": "markdown",
   "metadata": {},
   "source": [
    "# 8. Write code that prints Hello if 1 is stored in spam, prints Howdy if 2 is stored in spam, and prints Greetings! if anything else is stored in spam.\n",
    "\n",
    "if spam==1:\n",
    "    print(\"Hello\")\n",
    "elif spam==2:\n",
    "    print(\"Howdy\")\n",
    "else:\n",
    "    print(\"Greetings!\")"
   ]
  },
  {
   "cell_type": "markdown",
   "metadata": {},
   "source": [
    "# 9. If your programme is stuck in an endless loop, what keys you’ll press?\n",
    "\n",
    "Ans. We can directly select interrupt kernal option in jupyter notebooks or we can enter CTRL + C in terminal. "
   ]
  },
  {
   "cell_type": "markdown",
   "metadata": {},
   "source": [
    "# 10. How can you tell the difference between break and continue?\n",
    "\n",
    "Ans. break statement is used to terminate the loop.\n",
    " Ex: "
   ]
  },
  {
   "cell_type": "code",
   "execution_count": null,
   "metadata": {},
   "outputs": [],
   "source": [
    "i=1\n",
    "while True:\n",
    "    i+=1\n",
    "    if i==4:\n",
    "        break # As soon as i becomes 4, the loop will terminate.\n"
   ]
  },
  {
   "cell_type": "markdown",
   "metadata": {},
   "source": [
    "continue statement is used to skip the rest of execution of the loop   \n",
    "for the current iteration."
   ]
  },
  {
   "cell_type": "code",
   "execution_count": 10,
   "metadata": {},
   "outputs": [
    {
     "name": "stdout",
     "output_type": "stream",
     "text": [
      "Hello World!\n",
      "Hello World!\n"
     ]
    }
   ],
   "source": [
    "i=0\n",
    "while i<5:\n",
    "    if i%2==0:\n",
    "        i+=1\n",
    "        continue #Hello world will not be printed for even values of i\n",
    "    print(\"Hello World!\")\n",
    "    i+=1"
   ]
  },
  {
   "cell_type": "markdown",
   "metadata": {},
   "source": [
    "# 11. In a for loop, what is the difference between range(10), range(0, 10), and range(0, 10, 1)?\n",
    "\n",
    "Ans. All will result in the same iterations.\n",
    "      \n",
    "range(10) takes start as 0 by default. So loop runs from 0 to 10 (10 excluded). Default step size is 1. \n",
    "\n",
    "range(0, 10) specifies the start value as 0 and end value as 10. So loop runs from 0 to 10 (10 excluded). Default step size is 1.\n",
    "\n",
    "range(0,10,1) specifies the start value as 0, end value as 10 and step size as 1. So loop runs for 10 iterations from 0 to 10 (10 excluded). \n",
    "     "
   ]
  },
  {
   "cell_type": "markdown",
   "metadata": {},
   "source": [
    "# 12. Write a short program that prints the numbers 1 to 10 using a for loop. Then write an equivalent program that prints the numbers 1 to 10 using a while loop."
   ]
  },
  {
   "cell_type": "code",
   "execution_count": 11,
   "metadata": {},
   "outputs": [
    {
     "name": "stdout",
     "output_type": "stream",
     "text": [
      "1\n",
      "2\n",
      "3\n",
      "4\n",
      "5\n",
      "6\n",
      "7\n",
      "8\n",
      "9\n",
      "10\n"
     ]
    }
   ],
   "source": [
    "for i in range(1,11):\n",
    "    print(i)"
   ]
  },
  {
   "cell_type": "code",
   "execution_count": 12,
   "metadata": {},
   "outputs": [
    {
     "name": "stdout",
     "output_type": "stream",
     "text": [
      "1\n",
      "2\n",
      "3\n",
      "4\n",
      "5\n",
      "6\n",
      "7\n",
      "8\n",
      "9\n",
      "10\n"
     ]
    }
   ],
   "source": [
    "i=1\n",
    "while(i<=10):\n",
    "    print(i)\n",
    "    i+=1"
   ]
  },
  {
   "cell_type": "markdown",
   "metadata": {},
   "source": [
    "# 13. If you had a function named bacon() inside a module named spam, how would you call it after importing spam? \n",
    "\n",
    "\n",
    "from spam import bacon\n",
    "bacon()     \n",
    "    "
   ]
  }
 ],
 "metadata": {
  "kernelspec": {
   "display_name": "Python 3",
   "language": "python",
   "name": "python3"
  },
  "language_info": {
   "codemirror_mode": {
    "name": "ipython",
    "version": 3
   },
   "file_extension": ".py",
   "mimetype": "text/x-python",
   "name": "python",
   "nbconvert_exporter": "python",
   "pygments_lexer": "ipython3",
   "version": "3.8.5"
  }
 },
 "nbformat": 4,
 "nbformat_minor": 4
}
